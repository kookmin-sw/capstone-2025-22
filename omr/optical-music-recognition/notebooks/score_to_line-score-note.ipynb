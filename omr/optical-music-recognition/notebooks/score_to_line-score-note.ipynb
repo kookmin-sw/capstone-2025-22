{
 "cells": [
  {
   "cell_type": "code",
   "execution_count": 858,
   "metadata": {},
   "outputs": [],
   "source": [
    "import cv2\n",
    "import numpy as np\n",
    "import csv\n",
    "import pandas as pd\n",
    "from datetime import datetime\n",
    "from PIL import Image, ImageOps\n",
    "import xml.etree.ElementTree as ET\n",
    "import glob\n",
    "import os\n",
    "import re"
   ]
  },
  {
   "cell_type": "code",
   "execution_count": 859,
   "metadata": {},
   "outputs": [],
   "source": [
    "score_title=\"Rock-ver\"\n",
    "\n",
    "SAVE_IMAGE_PATH=\"../data/segment-img\"\n",
    "STAVE = \"staves\"\n",
    "RESIZED_STAVE = \"resized-staves\"\n",
    "SAVE_FEATURE_PATH=\"../data/feature\"\n",
    "STAVE_FEATURE = \"stave-feature\" "
   ]
  },
  {
   "attachments": {
    "image.png": {
     "image/png": "[encoded data removed]"
    }
   },
   "cell_type": "markdown",
   "metadata": {},
   "source": [
    "## 이미지 전처리\n",
    "\n",
    "이진화 및 변수 지정\n",
    "\n",
    "![image.png](attachment:image.png)"
   ]
  },
  {
   "cell_type": "code",
   "execution_count": 860,
   "metadata": {},
   "outputs": [],
   "source": [
    "def transform_img2binaryimg(img):\n",
    "    img = cv2.imread(img)\n",
    "    gray = cv2.cvtColor(img, cv2.COLOR_BGR2GRAY)\n",
    "    return gray"
   ]
  },
  {
   "cell_type": "code",
   "execution_count": 861,
   "metadata": {},
   "outputs": [],
   "source": [
    "def get_score_info(score_path):\n",
    "    gray = transform_img2binaryimg(score_path)\n",
    "    ret, gray = cv2.threshold(gray, 127, 255, cv2.THRESH_BINARY_INV)\n",
    "    # binary_img = cv2.bitwise_and(img, img, mask = gray) # 원본이미지와 바이너리 이미지를 엔드연산하는 코드 \n",
    "    height, width = gray.shape\n",
    "    return gray, height, width"
   ]
  },
  {
   "cell_type": "markdown",
   "metadata": {},
   "source": [
    "보표 추출"
   ]
  },
  {
   "cell_type": "code",
   "execution_count": 862,
   "metadata": {},
   "outputs": [],
   "source": [
    "def transform_score2segment(gray):\n",
    "    # mask = np.zeros(gray.shape, np.uint8)\n",
    "    \"\"\"\n",
    "    객체 정보를 함께 반환하는 레이블링 함수\n",
    "    cnt : 객체 수 + 1 (배경 포함)\n",
    "    labels : 객체에 번호가 지정된 레이블 맵\n",
    "    stats : N행 5열, N은 객체 수 + 1이며 각각의 행은 번호가 지정된 객체를 의미, 5열에는 x, y, width, height, area 순으로 정보가 담겨 있습니다. x,y 는 좌측 상단 좌표를 의미하며 area는 면적, 픽셀의 수를 의미합니다.\n",
    "    centroids : N행 2열, 2열에는 x,y 무게 중심 좌표가 입력되어 있습니다. 무게 중심 좌표는 픽셀의 x 좌표를 다 더해서 갯수로 나눈 값입니다. y좌표도 동일합니다.\n",
    "    \"\"\"\n",
    "    cnt, labels, stats, centroids = cv2.connectedComponentsWithStats(gray)\n",
    "    return cnt, labels, stats, centroids"
   ]
  },
  {
   "cell_type": "code",
   "execution_count": 863,
   "metadata": {},
   "outputs": [],
   "source": [
    "def save_stave_img(cnt, stats, width, gray):\n",
    "    # -- idx:0은 배경이라 제외\n",
    "    for i in range(1, cnt):\n",
    "        date_time = datetime.now().strftime(\"%Y-%m-%d_%H-%M-%S\")\n",
    "        x, y, w, h, area = stats[i]\n",
    "        # width : 1700\n",
    "        # 1700 * 0.5 = 850\n",
    "        # -- 길이가 오선지 길이일 때만,,,\n",
    "        if w > width * 0.5:\n",
    "            roi = gray[y:y+h, x:x+w]\n",
    "            cv2.imwrite(f\"{SAVE_IMAGE_PATH}/{STAVE}/{score_title}-{STAVE}-{i}-{date_time}.png\", roi)\n",
    "            print(roi)"
   ]
  },
  {
   "cell_type": "markdown",
   "metadata": {},
   "source": [
    "stave image 저장"
   ]
  },
  {
   "cell_type": "code",
   "execution_count": 864,
   "metadata": {},
   "outputs": [],
   "source": [
    "# gray, height, width = get_score_info(\"../data/raw/Rock-ver/Rock-ver-3.png\")\n",
    "# cnt, labels, stats, centroids = transform_score2segment(gray)\n",
    "# save_stave_img(cnt, stats, width, gray)"
   ]
  },
  {
   "cell_type": "code",
   "execution_count": 865,
   "metadata": {},
   "outputs": [],
   "source": [
    "\n",
    "def get_all_imgs(img_folder_path):\n",
    "    file_list = glob.glob(f\"{img_folder_path}/*\")\n",
    "    file_list_png = [file for file in file_list if file.endswith(\".png\")]\n",
    "    return file_list_png"
   ]
  },
  {
   "cell_type": "code",
   "execution_count": 866,
   "metadata": {},
   "outputs": [],
   "source": [
    "STAVE_HEIGHT = 100\n",
    "PAD_WIDTH = 1700\n",
    "\n",
    "def resize_stave_img(image_path):\n",
    "    image = Image.open(image_path)\n",
    "    # resize 수행\n",
    "    width_percent = (STAVE_HEIGHT / float(image.size[1]))\n",
    "    new_width = int((float(image.size[0]) * float(width_percent)))\n",
    "    resized_image = image.resize((new_width, STAVE_HEIGHT))\n",
    "    # right padding 추가\n",
    "    if resized_image.width < PAD_WIDTH:\n",
    "        padding_width = PAD_WIDTH - resized_image.width\n",
    "        padding = (0, 0, padding_width, 0)\n",
    "        resized_image = ImageOps.expand(resized_image, padding, fill='black')\n",
    "    \n",
    "    return resized_image"
   ]
  },
  {
   "cell_type": "code",
   "execution_count": 867,
   "metadata": {},
   "outputs": [],
   "source": [
    "# height 100 resize 하면서 width padding도 채우기\n",
    "def resize_stave_imgs(image_paths):\n",
    "    for image in image_paths:\n",
    "        file_name=os.path.basename(image)\n",
    "        # 정규표현식을 사용하여 날짜 부분 추출\n",
    "        date_pattern = r'\\d{4}-\\d{2}-\\d{2}_\\d{2}-\\d{2}-\\d{2}'\n",
    "        match = re.search(date_pattern, file_name)\n",
    "        if match:\n",
    "            date_string = match.group()\n",
    "        else:\n",
    "            date_string = None\n",
    "        new_file_name = file_name.replace(f\"{STAVE}\", f\"{RESIZED_STAVE}\")\n",
    "        date_time = datetime.now().strftime(\"%Y-%m-%d_%H-%M-%S\")\n",
    "        new_file_name = new_file_name.replace(date_string, date_time)\n",
    "\n",
    "        resized_image = resize_stave_img(image)\n",
    "        resized_image.save(f\"{SAVE_IMAGE_PATH}/{RESIZED_STAVE}/{new_file_name}\")"
   ]
  },
  {
   "cell_type": "markdown",
   "metadata": {},
   "source": [
    "resize stave image's heigth 100, width 1700"
   ]
  },
  {
   "cell_type": "code",
   "execution_count": 868,
   "metadata": {},
   "outputs": [],
   "source": [
    "# imgs = get_all_imgs(f\"{SAVE_IMAGE_PATH}/{STAVE}/\")\n",
    "# resize_stave_imgs(imgs)"
   ]
  },
  {
   "cell_type": "code",
   "execution_count": 869,
   "metadata": {},
   "outputs": [],
   "source": [
    "def extract_imgs_feature(resized_imgs):\n",
    "    features=[]\n",
    "    for resize_img in resized_imgs:\n",
    "        gray = transform_img2binaryimg(resize_img)\n",
    "        features.append(gray)\n",
    "        print(gray.shape)\n",
    "    return features"
   ]
  },
  {
   "cell_type": "code",
   "execution_count": 870,
   "metadata": {},
   "outputs": [],
   "source": [
    "def save_feature_csv(features):\n",
    "    date_time = datetime.now().strftime(\"%Y-%m-%d_%H-%M-%S\")\n",
    "    save_path = f\"{SAVE_FEATURE_PATH}/{STAVE_FEATURE}-{date_time}.csv\"\n",
    "    df = pd.DataFrame(features)\n",
    "    df.to_csv(save_path, index=False, header=False)"
   ]
  },
  {
   "cell_type": "markdown",
   "metadata": {},
   "source": [
    "csv 파일로 저장"
   ]
  },
  {
   "cell_type": "code",
   "execution_count": 871,
   "metadata": {},
   "outputs": [],
   "source": [
    "# resized_imgs = get_all_imgs(f\"{SAVE_IMAGE_PATH}/{RESIZED_STAVE}/\")\n",
    "# features = extract_imgs_feature(resized_imgs)\n",
    "\n",
    "# # 데이터 이어붙이기\n",
    "# merged_data = np.concatenate(features, axis=1)\n",
    "\n",
    "# # 전치\n",
    "# transposed_data = np.transpose(merged_data)\n",
    "\n",
    "# save_feature_csv(transposed_data)"
   ]
  },
  {
   "cell_type": "code",
   "execution_count": 872,
   "metadata": {},
   "outputs": [],
   "source": [
    "cv2.waitKey(0)\n",
    "cv2.destroyAllWindows()"
   ]
  },
  {
   "cell_type": "markdown",
   "metadata": {},
   "source": [
    "## XML 라벨링"
   ]
  },
  {
   "cell_type": "code",
   "execution_count": 873,
   "metadata": {},
   "outputs": [],
   "source": [
    "def load_xml_data(file_path: str):\n",
    "    \"\"\"\n",
    "    xml data 불러오기\n",
    "    \"\"\"\n",
    "    try:\n",
    "        tree = ET.parse(file_path)  # XML 파일을 파싱\n",
    "        root = tree.getroot()\n",
    "        return root\n",
    "    except ET.ParseError as e:\n",
    "        print(f\"XML 파일을 파싱하는 동안 오류가 발생했습니다: {e}\")\n",
    "        return None"
   ]
  },
  {
   "cell_type": "code",
   "execution_count": 874,
   "metadata": {},
   "outputs": [],
   "source": [
    "def extract_pitch(xml_file):\n",
    "    \"\"\"\n",
    "    multiple pitch 추출\n",
    "    <chord/> <-  얘 있으면 동시에 친 거임\n",
    "    <pitch>\n",
    "        <step>A</step>\n",
    "        <octave>5</octave>\n",
    "    </pitch>\n",
    "\n",
    "    output : [['G5'], ['G5'], ['G5'], ['C5'], ['C5'], ['F4', 'A5'], ...]\n",
    "    \"\"\"\n",
    "    def extract_step_octave(pitch_element):\n",
    "        \"\"\"\n",
    "        step, octave 추출\n",
    "        <pitch>\n",
    "            <step>C</step>\n",
    "            <octave>5</octave>\n",
    "        </pitch>\n",
    "        \"\"\"\n",
    "        step = pitch_element.find('step').text\n",
    "        octave = pitch_element.find('octave').text\n",
    "        return step, octave\n",
    "    \n",
    "    # XML 파일 파싱\n",
    "    root = load_xml_data(xml_file)\n",
    "    \n",
    "    pitch_list = []\n",
    "    chord_list = []\n",
    "\n",
    "    # 모든 <note> 엘리먼트를 찾습니다.\n",
    "    for note in root.iter('note'):\n",
    "        pitch_elements = note.findall('./pitch')\n",
    "        # <chord> 엘리먼트를 가진 <note> 엘리먼트인지 확인\n",
    "        is_chord = note.find('chord') is not None\n",
    "        # 만약 <chord> 엘리먼트를 가진 <note> 엘리먼트라면, 계속 추가\n",
    "        if is_chord:\n",
    "            for pitch_element in pitch_elements:\n",
    "                step, octave = extract_step_octave(pitch_element)\n",
    "                chord_list.append(step + octave)\n",
    "        else:\n",
    "            for pitch_element in pitch_elements:\n",
    "                step, octave = extract_step_octave(pitch_element)\n",
    "                chord_list = [] # -- 초기화\n",
    "                chord_list.append(step + octave)\n",
    "                pitch_list.append(chord_list)\n",
    "    \n",
    "    return pitch_list"
   ]
  },
  {
   "cell_type": "code",
   "execution_count": 875,
   "metadata": {},
   "outputs": [],
   "source": [
    "# XML 파일 경로\n",
    "# xml_file_path = '../data/raw/Rock-ver.xml'\n",
    "# pitches = extract_pitch(xml_file_path)\n",
    "\n",
    "# # 결과를 출력합니다.\n",
    "# for i, pitches in enumerate(pitches, 1):\n",
    "#     print(f\"Note {i}: {' '.join(pitches)}\")"
   ]
  },
  {
   "cell_type": "markdown",
   "metadata": {},
   "source": [
    "binary img에서 음표 하나라도 인식되면 세로로 줄 긋기"
   ]
  },
  {
   "cell_type": "code",
   "execution_count": 876,
   "metadata": {},
   "outputs": [],
   "source": [
    "def get_score_remove_stave(score_path):\n",
    "    \"\"\"\n",
    "    보표 제거한 score 얻기\n",
    "    \"\"\"\n",
    "    gray, height, width = get_score_info(score_path)\n",
    "    cnt, labels, stats, centroids = transform_score2segment(gray) # 모든 객체 검출하기\n",
    "\n",
    "    mask = np.zeros(gray.shape, np.uint8)\n",
    "    cnt, labels, stats, centroids = cv2.connectedComponentsWithStats(gray)\n",
    "\n",
    "    # -- stave\n",
    "    for i in range(1, cnt):\n",
    "        x, y, w, h, area = stats[i]\n",
    "        if w > width * 0.5:\n",
    "            cv2.rectangle(mask, (x, y, w, h), (255, 255, 255), -1)\n",
    "    masked = cv2.bitwise_and(gray, mask)\n",
    "    staves = []\n",
    "    for row in range(height):\n",
    "        pixels = 0\n",
    "        for col in range(width):\n",
    "            pixels += (masked[row][col] == 255)\n",
    "        if pixels >= width * 0.5:\n",
    "            if len(staves) == 0 or abs(staves[-1][0] + staves[-1][1] - row) > 1:\n",
    "                staves.append([row, 0])\n",
    "            else:\n",
    "                staves[-1][1] += 1\n",
    "\n",
    "    for staff in range(len(staves)):\n",
    "        top_pixel = staves[staff][0]\n",
    "        bot_pixel = staves[staff][0] + staves[staff][1]\n",
    "        for col in range(width):\n",
    "            if height-staves[staff][1] > bot_pixel and masked[top_pixel - 1][col] == 0 and masked[bot_pixel + 1][col] == 0:\n",
    "                for row in range(top_pixel, bot_pixel + 1):\n",
    "                    masked[row][col] = 0\n",
    "                    \n",
    "    # date_time = datetime.now().strftime(\"%Y-%m-%d_%H-%M-%S\")\n",
    "    # cv2.imwrite(f\"{SAVE_IMAGE_PATH}/scores/{score_title}-score-{date_time}.png\", 255-masked)\n",
    "    return masked"
   ]
  },
  {
   "cell_type": "code",
   "execution_count": 877,
   "metadata": {},
   "outputs": [],
   "source": [
    "src=\"../data/raw/Rock-ver/Rock-ver-1.png\"\n",
    "masked = get_score_remove_stave(src)"
   ]
  },
  {
   "cell_type": "code",
   "execution_count": 878,
   "metadata": {},
   "outputs": [
    {
     "data": {
      "text/plain": [
       "True"
      ]
     },
     "execution_count": 878,
     "metadata": {},
     "output_type": "execute_result"
    }
   ],
   "source": [
    "image = cv2.imread(src)\n",
    "\n",
    "# Contour\n",
    "# RETR_EXTERNAL: 그림의 외곽 부분에만 컨투어를 그림\n",
    "contours, hierarchy = cv2.findContours(masked, cv2.RETR_EXTERNAL, cv2.CHAIN_APPROX_NONE)\n",
    "\n",
    "masked_copy=255-masked\n",
    "\n",
    "# i=1\n",
    "# for contour in contours:\n",
    "#     x, y, w, h = cv2.boundingRect(contour)\n",
    "#     # -- 여기서 음표만 추출할 수 있도록 길이 설정... 하드코딩이라 방법 생각해내야 함.\n",
    "#     if (w>10 and w<=30) and (h>10): \n",
    "#         roi = masked_copy[y:y+h, x:x+w]\n",
    "#         # cv2.imwrite('../data/segment-img/segments/save%s.jpg' %i, roi)\n",
    "#     i+=1\n",
    "\n",
    "for contour in contours:\n",
    "    x, y, w, h = cv2.boundingRect(contour)\n",
    "    aspect_ratio = w / h\n",
    "    \n",
    "    # # 꼬리가 있는 음표는 가로 세로 비율이 작은 경우로 가정\n",
    "    # # if aspect_ratio < 0.5:\n",
    "    # # 꼬리의 방향에 따라 stem 결정\n",
    "    # if w < h:  # 세로로 긴 꼬리\n",
    "    #     stem_x = x + w // 2\n",
    "    #     stem_y1 = y + h // 2\n",
    "    #     stem_y2 = y + h\n",
    "    # else:     # 가로로 긴 꼬리\n",
    "    #     stem_x = x + w\n",
    "    #     stem_y1 = y + h // 2\n",
    "    #     stem_y2 = y + h\n",
    "    # cv2.rectangle(image, (stem_x, stem_y1), (stem_x, stem_y2), (0, 0, 255), 2)\n",
    "    # if (w>10 and w<=30) and (h>10):\n",
    "    cv2.rectangle(image, (x,y,w,h), (0, 0, 255), 2)\n",
    "\n",
    "# masked_copy=cv2.drawContours(masked_copy, contours, -1, (255, 0, 0), 3)\n",
    "date_time = datetime.now().strftime(\"%Y-%m-%d_%H-%M-%S\")\n",
    "cv2.imwrite(f\"{SAVE_IMAGE_PATH}/scores/{score_title}-score-{date_time}.png\", image)"
   ]
  },
  {
   "cell_type": "code",
   "execution_count": 879,
   "metadata": {},
   "outputs": [],
   "source": [
    "# img = cv2.imread(src)\n",
    "# img2 = img.copy()\n",
    "# # 바이너리 이미지로 변환\n",
    "# imgray = cv2.cvtColor(img, cv2.COLOR_BGR2GRAY)\n",
    "# ret, imthres = cv2.threshold(imgray, 127, 255, cv2.THRESH_BINARY_INV)\n",
    "\n",
    "# # 가장 바깥 컨투어만 수집   --- ①\n",
    "# contour, hierarchy = cv2.findContours(imthres, cv2.RETR_EXTERNAL,cv2.CHAIN_APPROX_NONE)\n",
    "# cv2.drawContours(img, contour, -1, (0,255,0), 3)\n",
    "\n",
    "# date_time = datetime.now().strftime(\"%Y-%m-%d_%H-%M-%S\")\n",
    "# cv2.imwrite(f\"{SAVE_IMAGE_PATH}/segments/{score_title}-segment-{date_time}.png\", img)"
   ]
  },
  {
   "cell_type": "code",
   "execution_count": 880,
   "metadata": {},
   "outputs": [],
   "source": [
    "cv2.waitKey(0)\n",
    "cv2.destroyAllWindows()"
   ]
  }
 ],
 "metadata": {
  "kernelspec": {
   "display_name": "drum",
   "language": "python",
   "name": "python3"
  },
  "language_info": {
   "codemirror_mode": {
    "name": "ipython",
    "version": 3
   },
   "file_extension": ".py",
   "mimetype": "text/x-python",
   "name": "python",
   "nbconvert_exporter": "python",
   "pygments_lexer": "ipython3",
   "version": "3.11.5"
  }
 },
 "nbformat": 4,
 "nbformat_minor": 2
}
