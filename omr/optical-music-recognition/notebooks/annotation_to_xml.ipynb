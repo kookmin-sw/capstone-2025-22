{
 "cells": [
  {
   "cell_type": "markdown",
   "metadata": {},
   "source": [
    "### 🌸 dummy annotation 데이터"
   ]
  },
  {
   "cell_type": "code",
   "execution_count": 24,
   "metadata": {},
   "outputs": [],
   "source": [
    "dummy_annotation = \"clef-percussion+timeSignature-4/4+note-G5_quarter+rest_quarter+note-G5_quarter+note-C5_eighth.+note-C5_eighth+barline+note-G5_quarter+rest_quarter+note-C5_eighth+barline+note-G5_quarter+rest_quarter+note-G5_quarter+note-C5_eighth.+note-C5_eighth+barline+note-G5_quarter+rest_quarter+note-G5_quarter+note-C5_eighth.+note-C5_eighth+barline+note-G5_quarter+rest_quarter+note-G5_quarter+note-C5_eighth.+note-C5_eighth+barline+note-G5_quarter+rest_quarter+note-G5_quarter+note-C5_eighth.+note-C5_eighth+barline+note-G5_quarter+rest_quarter+note-G5_quarter+note-C5_eighth.+note-C5_eighth+barline+note-G5_quarter+rest_quarter+note-G5_quarter+note-C5_eighth.+note-C5_eighth+barline+note-G5_quarter+rest_quarter+note-G5_quarter+note-C5_eighth.+note-C5_eighth+barline+note-G5_quarter+rest_quarter+note-G5_quarter+note-C5_eighth.+note-C5_eighth+barline+note-G5_quarter+rest_quarter+note-G5_quarter+note-C5_eighth.+note-C5_eighth+barline\""
   ]
  },
  {
   "cell_type": "code",
   "execution_count": 38,
   "metadata": {},
   "outputs": [],
   "source": [
    "created_annotation = \"ote-G5_quarter|note-A4_quarter+note-G5_quarter+rest_quarter+rest_quarter+barline\""
   ]
  },
  {
   "cell_type": "markdown",
   "metadata": {},
   "source": [
    "### 🌸 상수"
   ]
  },
  {
   "cell_type": "code",
   "execution_count": 23,
   "metadata": {},
   "outputs": [],
   "source": [
    "# 상수들\n",
    "BARLINE = \"barline\"\n",
    "NOTE = \"note\"\n",
    "REST = \"rest\"\n",
    "NOTEHEAD_X_LIST = ('G5', 'A5', 'D4')\n",
    "STEM_DIRECTION_UP = \"up\"\n",
    "DIVISION_CHORD = '+'\n",
    "DIVISION_NOTE = '|'\n",
    "DIVISION_DURATION = '_'\n",
    "DIVISION_PITCH = '-'\n",
    "\n",
    "# -- annotation dict key 값들\n",
    "IS_NOTE = 'is_note'\n",
    "NOTEHEAD = 'notehead'\n",
    "NOTEHEAD_X = 'x'\n",
    "PITCH = \"pitch\"\n",
    "DURATION = \"duration\"\n",
    "\n",
    "# -- duration type <-> quarterLength match dict\n",
    "DURATION_TYPE_TO_LENGTH_TEMP = {\n",
    "    \"whole\": 4.0,\n",
    "    \"half\": 2.0,\n",
    "    \"quarter\": 1.0,\n",
    "    \"eighth\": 0.5,\n",
    "    \"16th\": 0.25,\n",
    "    \"32nd\": 0.125,\n",
    "    \"64th\": 0.0625,\n",
    "    \"128th\": 0.03125,\n",
    "    \"256th\": 0.015625,\n",
    "    \"512th\": 0.0078125,\n",
    "    \"1024th\": 0.00390625,\n",
    "    \"breve\": 8.0,\n",
    "    \"longa\": 16.0,\n",
    "    \"maxima\": 32.0,\n",
    "}\n",
    "DURATION_TYPE_TO_LENGTH = {}\n",
    "for duration_type, quarter_length in DURATION_TYPE_TO_LENGTH_TEMP.items():\n",
    "    DURATION_TYPE_TO_LENGTH[duration_type] = quarter_length\n",
    "    DURATION_TYPE_TO_LENGTH[duration_type + '.'] = quarter_length + quarter_length / 2"
   ]
  },
  {
   "cell_type": "markdown",
   "metadata": {},
   "source": [
    "### 🌸 annotation 쪼개기"
   ]
  },
  {
   "cell_type": "code",
   "execution_count": 4,
   "metadata": {},
   "outputs": [],
   "source": [
    "\"\"\"\n",
    "result dict\n",
    "\n",
    "[\n",
    "    # 마디\n",
    "    [\n",
    "        # 마디 안의 동시에 친 음표\n",
    "        [\n",
    "            {\n",
    "                \"is_note\": True, \n",
    "                \"notehead\": 'x', \n",
    "                \"pitch\": 'G5',\n",
    "                \"duration\": 1.0,\n",
    "            },\n",
    "            {\n",
    "                \"is_note\": True, \n",
    "                \"notehead\": None, \n",
    "                \"pitch\": 'G5',\n",
    "                \"duration\": 0.75,\n",
    "            },\n",
    "            ...\n",
    "        ],\n",
    "        ...\n",
    "    ],\n",
    "    ...\n",
    "]\n",
    "\"\"\"\n",
    "def split_annotation(annotation):\n",
    "    annotation_dict_list = []\n",
    "\n",
    "    # 마디 기준 ('barline') 으로 자르기\n",
    "    bar_list = annotation.split(BARLINE)\n",
    "\n",
    "    for bar_info in bar_list:\n",
    "        if bar_info == '':\n",
    "            continue\n",
    "\n",
    "        # 동시에 친 음표 기준 ('+') 으로  자르기\n",
    "        chord_list = bar_info.split(DIVISION_CHORD)\n",
    "        annotation_chord_list = []\n",
    "        for chord_info in chord_list:\n",
    "            if chord_info == '' or (chord_info[0:4] != NOTE and chord_info[0:4] != REST):\n",
    "                continue\n",
    "\n",
    "            # 노트 얻기 ('|' 기준으로 자르기)\n",
    "            note_list = chord_info.split(DIVISION_NOTE)\n",
    "            annotation_note_list = []\n",
    "            for note_info in note_list:\n",
    "                if note_info == '':\n",
    "                    continue\n",
    "                \n",
    "                # 노트 정보 객체\n",
    "                note_info_dict = {}\n",
    "                \n",
    "                # note, rest, pitch, duration 얻기\n",
    "                pitch_info, duration = note_info.split(DIVISION_DURATION)\n",
    "                pitch_info_list = pitch_info.split(DIVISION_PITCH)\n",
    "                note_info_dict[DURATION] = DURATION_TYPE_TO_LENGTH[duration]\n",
    "                note_info_dict[IS_NOTE] = (pitch_info_list[0] == NOTE)\n",
    "                if pitch_info_list[0] == NOTE: # 음표\n",
    "                    note_info_dict[IS_NOTE] = True\n",
    "                    note_info_dict[PITCH] = pitch_info_list[1]\n",
    "                    note_info_dict[NOTEHEAD] = None\n",
    "                    if pitch_info_list[1] in NOTEHEAD_X_LIST:\n",
    "                        note_info_dict[NOTEHEAD] = NOTEHEAD_X\n",
    "\n",
    "                annotation_note_list.append(note_info_dict)\n",
    "            annotation_chord_list.append(annotation_note_list)\n",
    "        annotation_dict_list.append(annotation_chord_list)\n",
    "\n",
    "    return annotation_dict_list\n",
    "\n"
   ]
  },
  {
   "cell_type": "code",
   "execution_count": 9,
   "metadata": {},
   "outputs": [
    {
     "data": {
      "text/plain": [
       "[[[{'duration': 1.0, 'is_note': True, 'pitch': 'G5', 'notehead': 'x'}],\n",
       "  [{'duration': 1.0, 'is_note': False}],\n",
       "  [{'duration': 1.0, 'is_note': True, 'pitch': 'G5', 'notehead': 'x'}],\n",
       "  [{'duration': 0.75, 'is_note': True, 'pitch': 'C5', 'notehead': None}],\n",
       "  [{'duration': 0.5, 'is_note': True, 'pitch': 'C5', 'notehead': None}]]]"
      ]
     },
     "execution_count": 9,
     "metadata": {},
     "output_type": "execute_result"
    }
   ],
   "source": [
    "split_annotation(dummy_annotation)"
   ]
  },
  {
   "cell_type": "markdown",
   "metadata": {},
   "source": [
    "### 🌸 score 객체 -> xml tree"
   ]
  },
  {
   "cell_type": "code",
   "execution_count": 36,
   "metadata": {},
   "outputs": [],
   "source": [
    "import xml.etree.ElementTree as ET\n",
    "from music21.musicxml import m21ToXml\n",
    "\n",
    "def m21_score_to_xml_tree(m21_score):\n",
    "    # MusicXML string으로 변환\n",
    "    musicxml_string = m21ToXml.GeneralObjectExporter(m21_score).parse()\n",
    "\n",
    "    # XML Tree 구조로 변환\n",
    "    xml_tree = ET.ElementTree(ET.fromstring(musicxml_string))\n",
    "\n",
    "    # XML 파일로 저장\n",
    "    # xml_tree.write('example_score.xml', encoding='utf-8', xml_declaration=True)\n",
    "\n",
    "    return xml_tree"
   ]
  },
  {
   "cell_type": "markdown",
   "metadata": {},
   "source": [
    "### 🌸 박자에 맞게 마디 안 음표 조정"
   ]
  },
  {
   "cell_type": "code",
   "execution_count": 18,
   "metadata": {},
   "outputs": [],
   "source": [
    "\"\"\"\n",
    "result dict : 4/4 박자에 맞는 마디별 음표 정보\n",
    "\n",
    "annotation: \n",
    "[[[{'duration': 1.0, 'is_note': True, 'pitch': 'G5', 'notehead': 'x'}],\n",
    "  [{'duration': 1.0, 'is_note': False}],\n",
    "  [{'duration': 1.0, 'is_note': True, 'pitch': 'G5', 'notehead': 'x'}],\n",
    "  [{'duration': 0.5, 'is_note': True, 'pitch': 'C5', 'notehead': None}],\n",
    "  [{'duration': 1.0, 'is_note': True, 'pitch': 'C5', 'notehead': None}]]]\n",
    "\n",
    "result: \n",
    "[[[{'duration': 1.0, 'is_note': True, 'pitch': 'G5', 'notehead': 'x'}],\n",
    "  [{'duration': 1.0, 'is_note': False}],\n",
    "  [{'duration': 1.0, 'is_note': True, 'pitch': 'G5', 'notehead': 'x'}],\n",
    "  [{'duration': 0.5, 'is_note': True, 'pitch': 'C5', 'notehead': None}],\n",
    "  [{'duration': 0.5, 'is_note': False}]]]\n",
    "\"\"\"\n",
    "def fit_annotation_bar(annotation_dict):\n",
    "    result_annotation = []\n",
    "    total_duration_4_4 = 4.0\n",
    "\n",
    "    for bar in annotation_dict:\n",
    "        sum_duration = 0\n",
    "        chord_annotation = []\n",
    "        for chord_info in bar:\n",
    "            first_duration = chord_info[0][DURATION]\n",
    "            if sum_duration + first_duration > total_duration_4_4:\n",
    "                break\n",
    "            chord_annotation.append(chord_info)\n",
    "            sum_duration += first_duration\n",
    "        rest_duration = total_duration_4_4 - sum_duration\n",
    "        if rest_duration > 0:\n",
    "            chord_annotation.append([{DURATION: rest_duration, IS_NOTE: False}])\n",
    "        result_annotation.append(chord_annotation)\n",
    "    \n",
    "    return result_annotation"
   ]
  },
  {
   "cell_type": "markdown",
   "metadata": {},
   "source": [
    "### 🌸 xml 만들기"
   ]
  },
  {
   "cell_type": "code",
   "execution_count": 22,
   "metadata": {},
   "outputs": [],
   "source": [
    "from music21 import stream, instrument, clef, meter, note, percussion\n",
    "\n",
    "\"\"\"\n",
    "xml tree 형태 리턴\n",
    "\"\"\"\n",
    "def annotation_to_musicxml(annotation):\n",
    "    annotation_dict = split_annotation(annotation)\n",
    "    annotation_dict = fit_annotation_bar(annotation_dict)\n",
    "\n",
    "    # Score 객체 생성\n",
    "    score = stream.Score()\n",
    "\n",
    "    # Drum Track 생성\n",
    "    drum_track = stream.Part()\n",
    "    drum_track.append(instrument.Percussion())\n",
    "\n",
    "    # Drum Clef 생성\n",
    "    drum_clef = clef.PercussionClef()\n",
    "    drum_track.append(drum_clef)\n",
    "\n",
    "    # 4/4 Time Signature 생성\n",
    "    time_signature = meter.TimeSignature('4/4')\n",
    "    drum_track.append(time_signature)\n",
    "\n",
    "    for bar in annotation_dict:\n",
    "        for chord_info in bar:\n",
    "            chord_notes = []\n",
    "            is_note = any(item[IS_NOTE] for item in chord_info) # 하나라도 음표 있다면 \n",
    "\n",
    "            if not is_note: # 쉼표\n",
    "                r = note.Rest()\n",
    "                r.duration.quarterLength = chord_info[0][DURATION]\n",
    "                drum_track.append(r)\n",
    "                continue\n",
    "            \n",
    "            # 음표\n",
    "            for note_info in chord_info:\n",
    "                if note_info[IS_NOTE]: # 음표\n",
    "                    # unpitched 음표 생성\n",
    "                    n = note.Unpitched(displayName=note_info[PITCH])\n",
    "                    n.duration.quarterLength = note_info[DURATION]            \n",
    "                    n.stemDirection = STEM_DIRECTION_UP\n",
    "\n",
    "                    if note_info[NOTEHEAD] != None:\n",
    "                        n.notehead = note_info[NOTEHEAD]\n",
    "                    chord_notes.append(n)\n",
    "\n",
    "            chord = percussion.PercussionChord(chord_notes)\n",
    "            chord.stemDirection = STEM_DIRECTION_UP  # Chord의 모든 노트의 꼬리 방향을 위로 설정\n",
    "            drum_track.append(chord)    \n",
    "\n",
    "    # Score에 Drum Track 추가\n",
    "    score.insert(0, drum_track)\n",
    "    score.show()\n",
    "\n",
    "    xml_tree = m21_score_to_xml_tree(score)\n",
    "\n",
    "    return xml_tree\n"
   ]
  },
  {
   "cell_type": "markdown",
   "metadata": {},
   "source": [
    "### 🌸 Run !"
   ]
  },
  {
   "cell_type": "code",
   "execution_count": 52,
   "metadata": {},
   "outputs": [
    {
     "data": {
      "image/png": "[encoded data removed]",
      "text/plain": [
       "<IPython.core.display.Image object>"
      ]
     },
     "metadata": {
      "image/png": {
       "height": 64,
       "width": 748
      }
     },
     "output_type": "display_data"
    }
   ],
   "source": [
    "created_annotation = \"clef-percussion+timeSignature-4/4+clef-percussion+timeSignature-4/4+note-A5_eighth|note-F4_eighth|note-A4_eighth+note-G5_eighth|note-C5_eighth|note-F4_eighth+note-G5_eighth+note-G5_eighth|note-C5_eighth+note-G5_eighth+note-A4_eighth+note-A4_eighth.+note-G5_16th|note-A4_16th|note-F4_16th+barline+note-A5_eighth+note-G5_eighth|note-F4_eighth+note-D5_eighth|note-C5_eighth+note-G5_eighth|note-F4_eighth+note-G5_eighth|note-C5_eighth+note-G5_eighth+note-G5_eighth|note-A4_eighth+note-E5_eighth|note-F4_eighth+barline+note-A5_eighth|note-A4_eighth+rest_eighth+note-G5_eighth|note-C5_eighth+note-G5_eighth+note-D5_eighth+note-G5_eighth+note-G5_eighth|note-C5_eighth+note-G5_eighth|note-F4_eighth|note-C5_eighth+barline\"\n",
    "xml_tree = annotation_to_musicxml(created_annotation)"
   ]
  },
  {
   "cell_type": "markdown",
   "metadata": {},
   "source": [
    "### 🗑️ Test Code"
   ]
  },
  {
   "cell_type": "code",
   "execution_count": 13,
   "metadata": {},
   "outputs": [
    {
     "name": "stdout",
     "output_type": "stream",
     "text": [
      "['note-F4_quarter', 'note-A5_quarter']\n",
      "['rest_quarter']\n",
      "['rest_half']\n"
     ]
    },
    {
     "data": {
      "image/png": "[encoded data removed]",
      "text/plain": [
       "<IPython.core.display.Image object>"
      ]
     },
     "metadata": {
      "image/png": {
       "height": 58,
       "width": 194
      }
     },
     "output_type": "display_data"
    },
    {
     "data": {
      "text/plain": [
       "PosixPath('/mnt/c/Users/BaeSuA/Documents/GitHub/optical-music-recognition/notebooks/drum_score_test.xml')"
      ]
     },
     "execution_count": 13,
     "metadata": {},
     "output_type": "execute_result"
    }
   ],
   "source": [
    "import music21 as m21\n",
    "from music21 import stream, instrument, clef, meter, note, bar\n",
    "\n",
    "# 주어진 annotation 문자열\n",
    "annotation = \"note-F4_quarter|note-A5_quarter+rest_quarter+rest_half+barline\"\n",
    "\n",
    "# Score 객체 생성\n",
    "score = stream.Score()\n",
    "\n",
    "# Drum Track 생성\n",
    "drum_track = stream.Part()\n",
    "drum_track.append(instrument.Percussion())\n",
    "\n",
    "# Drum Clef 생성\n",
    "drum_clef = clef.PercussionClef()\n",
    "drum_track.append(drum_clef)\n",
    "\n",
    "# 4/4 Time Signature 생성\n",
    "time_signature = meter.TimeSignature('4/4')\n",
    "drum_track.append(time_signature)\n",
    "\n",
    "# barline을 기준으로 annotation을 분할\n",
    "barlines = annotation.split('+')\n",
    "\n",
    "# 각 barline에 대해 처리\n",
    "for barline in barlines:\n",
    "    if barline == \"barline\":\n",
    "        continue\n",
    "    # barline 내의 각 노트 및 리듬을 분할\n",
    "    elements = barline.split('|')\n",
    "    chord_notes = []\n",
    "    is_rest = False\n",
    "    print(elements)\n",
    "    for element in elements:\n",
    "        # note 또는 rest 확인\n",
    "        pitch, duration = element.split('_')\n",
    "        pitch_info = pitch.split(\"-\")\n",
    "\n",
    "        if pitch_info[0] == 'note':\n",
    "            # 동시에 친 음의 연결 확인\n",
    "            n = m21.note.Unpitched(displayName=pitch_info[1])\n",
    "            n.duration.type = duration            \n",
    "            n.stemDirection = 'up'\n",
    "\n",
    "            if pitch_info[1] == 'G5' or pitch_info[1] == 'A5' or pitch_info[1] == 'D4':\n",
    "                n.notehead = 'x'\n",
    "            chord_notes.append(n)\n",
    "\n",
    "        elif pitch_info[0] == 'rest':\n",
    "            is_rest = True\n",
    "            r = note.Rest()\n",
    "            r.duration.type = duration\n",
    "            drum_track.append(r)\n",
    "\n",
    "    if not is_rest:\n",
    "        chord =  m21.percussion.PercussionChord(chord_notes)\n",
    "        chord.stemDirection = 'up'  # Chord의 모든 노트의 꼬리 방향을 위로 설정\n",
    "        drum_track.append(chord)\n",
    "\n",
    "drum_track.append(bar.Barline())\n",
    "\n",
    "# Score에 Drum Track 추가\n",
    "score.insert(0, drum_track)\n",
    "score.show()\n",
    "\n",
    "# MusicXML 파일로 저장\n",
    "score.write('musicxml', \"drum_score_test.xml\")\n"
   ]
  },
  {
   "cell_type": "code",
   "execution_count": 33,
   "metadata": {},
   "outputs": [
    {
     "data": {
      "image/png": "[encoded data removed]",
      "text/plain": [
       "<IPython.core.display.Image object>"
      ]
     },
     "metadata": {
      "image/png": {
       "height": 155,
       "width": 748
      }
     },
     "output_type": "display_data"
    },
    {
     "name": "stdout",
     "output_type": "stream",
     "text": [
      "악보가 생성되었습니다.\n"
     ]
    }
   ],
   "source": [
    "from music21 import stream, note, metadata\n",
    "\n",
    "# Score 객체 생성\n",
    "score = stream.Score()\n",
    "\n",
    "# 메타데이터 추가 (선택사항)\n",
    "score.metadata = metadata.Metadata()\n",
    "score.metadata.title = 'Example Score'\n",
    "score.metadata.composer = 'Composer Name'\n",
    "\n",
    "# 파트 생성\n",
    "part = stream.Part()\n",
    "\n",
    "# 음표들을 추가하면서 줄바꿈을 수행\n",
    "part.append(note.Note('C4', quarterLength=1))\n",
    "part.append(note.Note('D4', quarterLength=1))\n",
    "part.append(note.Note('E4', quarterLength=1))\n",
    "\n",
    "# # 첫 번째 마디 종료 후 줄바꿈 추가\n",
    "# part.append(stream.Measure())  # 마디 구분을 위해 Measure 객체를 추가하여 줄바꿈을 표현\n",
    "\n",
    "part.append(note.Note('F4', quarterLength=1))\n",
    "part.append(note.Note('G4', quarterLength=1))\n",
    "part.append(note.Note('A4', quarterLength=1))\n",
    "part.append(note.Note('B4', quarterLength=1))\n",
    "part.append(note.Note('C5', quarterLength=1))\n",
    "\n",
    "# 파트를 Score 객체에 추가\n",
    "score.append(part)\n",
    "\n",
    "# Score 객체를 MusicXML 파일로 저장\n",
    "score.write('musicxml', fp='example_score.xml')\n",
    "score.show()\n",
    "\n",
    "print('악보가 생성되었습니다.')\n"
   ]
  }
 ],
 "metadata": {
  "kernelspec": {
   "display_name": "omr",
   "language": "python",
   "name": "python3"
  },
  "language_info": {
   "codemirror_mode": {
    "name": "ipython",
    "version": 3
   },
   "file_extension": ".py",
   "mimetype": "text/x-python",
   "name": "python",
   "nbconvert_exporter": "python",
   "pygments_lexer": "ipython3",
   "version": "3.11.5"
  }
 },
 "nbformat": 4,
 "nbformat_minor": 2
}
