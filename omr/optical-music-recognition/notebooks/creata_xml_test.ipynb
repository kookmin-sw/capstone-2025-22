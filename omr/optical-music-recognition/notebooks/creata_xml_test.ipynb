{
 "cells": [
  {
   "cell_type": "markdown",
   "metadata": {},
   "source": [
    "### ⚡ Install music21 & musescore "
   ]
  },
  {
   "cell_type": "code",
   "execution_count": 1,
   "metadata": {},
   "outputs": [
    {
     "name": "stdout",
     "output_type": "stream",
     "text": [
      "Requirement already satisfied: music21 in /home/sua/anaconda3/envs/omr/lib/python3.11/site-packages (9.1.0)\n",
      "Requirement already satisfied: chardet in /home/sua/anaconda3/envs/omr/lib/python3.11/site-packages (from music21) (5.2.0)\n",
      "Requirement already satisfied: joblib in /home/sua/anaconda3/envs/omr/lib/python3.11/site-packages (from music21) (1.4.2)\n",
      "Requirement already satisfied: jsonpickle in /home/sua/anaconda3/envs/omr/lib/python3.11/site-packages (from music21) (3.0.4)\n",
      "Requirement already satisfied: matplotlib in /home/sua/anaconda3/envs/omr/lib/python3.11/site-packages (from music21) (3.8.4)\n",
      "Requirement already satisfied: more-itertools in /home/sua/anaconda3/envs/omr/lib/python3.11/site-packages (from music21) (10.2.0)\n",
      "Requirement already satisfied: numpy in /home/sua/anaconda3/envs/omr/lib/python3.11/site-packages (from music21) (1.26.4)\n",
      "Requirement already satisfied: requests in /home/sua/anaconda3/envs/omr/lib/python3.11/site-packages (from music21) (2.31.0)\n",
      "Requirement already satisfied: webcolors>=1.5 in /home/sua/anaconda3/envs/omr/lib/python3.11/site-packages (from music21) (1.13)\n",
      "Requirement already satisfied: contourpy>=1.0.1 in /home/sua/anaconda3/envs/omr/lib/python3.11/site-packages (from matplotlib->music21) (1.2.1)\n",
      "Requirement already satisfied: cycler>=0.10 in /home/sua/anaconda3/envs/omr/lib/python3.11/site-packages (from matplotlib->music21) (0.12.1)\n",
      "Requirement already satisfied: fonttools>=4.22.0 in /home/sua/anaconda3/envs/omr/lib/python3.11/site-packages (from matplotlib->music21) (4.51.0)\n",
      "Requirement already satisfied: kiwisolver>=1.3.1 in /home/sua/anaconda3/envs/omr/lib/python3.11/site-packages (from matplotlib->music21) (1.4.5)\n",
      "Requirement already satisfied: packaging>=20.0 in /home/sua/anaconda3/envs/omr/lib/python3.11/site-packages (from matplotlib->music21) (24.0)\n",
      "Requirement already satisfied: pillow>=8 in /home/sua/anaconda3/envs/omr/lib/python3.11/site-packages (from matplotlib->music21) (10.3.0)\n",
      "Requirement already satisfied: pyparsing>=2.3.1 in /home/sua/anaconda3/envs/omr/lib/python3.11/site-packages (from matplotlib->music21) (3.1.2)\n",
      "Requirement already satisfied: python-dateutil>=2.7 in /home/sua/anaconda3/envs/omr/lib/python3.11/site-packages (from matplotlib->music21) (2.9.0)\n",
      "Requirement already satisfied: charset-normalizer<4,>=2 in /home/sua/anaconda3/envs/omr/lib/python3.11/site-packages (from requests->music21) (3.3.2)\n",
      "Requirement already satisfied: idna<4,>=2.5 in /home/sua/anaconda3/envs/omr/lib/python3.11/site-packages (from requests->music21) (3.7)\n",
      "Requirement already satisfied: urllib3<3,>=1.21.1 in /home/sua/anaconda3/envs/omr/lib/python3.11/site-packages (from requests->music21) (2.2.1)\n",
      "Requirement already satisfied: certifi>=2017.4.17 in /home/sua/anaconda3/envs/omr/lib/python3.11/site-packages (from requests->music21) (2024.2.2)\n",
      "Requirement already satisfied: six>=1.5 in /home/sua/anaconda3/envs/omr/lib/python3.11/site-packages (from python-dateutil>=2.7->matplotlib->music21) (1.16.0)\n"
     ]
    }
   ],
   "source": [
    "!pip3 install music21"
   ]
  },
  {
   "cell_type": "code",
   "execution_count": null,
   "metadata": {},
   "outputs": [],
   "source": [
    "!sudo apt-get update\n",
    "!sudo add-apt-repository ppa:mscore-ubuntu/mscore3-stable\n",
    "!sudo apt-get install musescore3"
   ]
  },
  {
   "cell_type": "markdown",
   "metadata": {},
   "source": [
    "### ⚡ musesocre 경로 확인 & music21 환경 설정"
   ]
  },
  {
   "cell_type": "code",
   "execution_count": null,
   "metadata": {},
   "outputs": [],
   "source": [
    "!which mscore3"
   ]
  },
  {
   "cell_type": "code",
   "execution_count": null,
   "metadata": {},
   "outputs": [],
   "source": [
    "import music21 as m21\n",
    "\n",
    "# MuseScore 경로 설정\n",
    "m21.environment.set('musescoreDirectPNGPath', '/usr/bin/mscore3')\n",
    "\n",
    "# 이후에는 MusicXML 파일을 보여주는 코드를 실행하면 됩니다."
   ]
  },
  {
   "cell_type": "code",
   "execution_count": 3,
   "metadata": {},
   "outputs": [
    {
     "name": "stdout",
     "output_type": "stream",
     "text": [
      "/usr/bin/mscore\n"
     ]
    }
   ],
   "source": [
    "import music21 as m21\n",
    "\n",
    "# MuseScore 경로 확인\n",
    "print(m21.environment.get('musescoreDirectPNGPath'))"
   ]
  },
  {
   "cell_type": "markdown",
   "metadata": {},
   "source": [
    "### ⚡ MusicXML 생성"
   ]
  },
  {
   "cell_type": "markdown",
   "metadata": {},
   "source": [
    "#### drum - music21 note info mapping 한 객체"
   ]
  },
  {
   "cell_type": "code",
   "execution_count": 1,
   "metadata": {},
   "outputs": [],
   "source": [
    "# 드럼 악기 정보 저장을 위한 클래스\n",
    "class DrumInstrument:\n",
    "    def __init__(self, pitch, notehead_x):\n",
    "        self.pitch = pitch\n",
    "        self.notehead_x = notehead_x\n",
    "\n",
    "# 드럼 악기 정보를 매핑\n",
    "drum_instruments = {\n",
    "    \"Bass Drum 1\": DrumInstrument('F4', False),\n",
    "    \"Open Hi-Hat\": DrumInstrument('G5', True),\n",
    "    \"Closed Hi-Hat\": DrumInstrument('G5', True),\n",
    "    \"Crash Cymbal 1\": DrumInstrument('A5', True),\n",
    "    \"Ride Cymbal 1\": DrumInstrument('F5', True),\n",
    "    \"High Tom\": DrumInstrument('E5', False),\n",
    "    \"Mid Tom\": DrumInstrument('D5', False),\n",
    "    \"Low Tom\": DrumInstrument('A4', False),\n",
    "    \"Acoustic Snare\": DrumInstrument('C5', False),\n",
    "}"
   ]
  },
  {
   "cell_type": "code",
   "execution_count": 2,
   "metadata": {},
   "outputs": [
    {
     "data": {
      "image/png": "[encoded data removed]",
      "text/plain": [
       "<IPython.core.display.Image object>"
      ]
     },
     "metadata": {
      "image/png": {
       "height": 152,
       "width": 748
      }
     },
     "output_type": "display_data"
    },
    {
     "data": {
      "text/plain": [
       "<Figure size 640x480 with 0 Axes>"
      ]
     },
     "metadata": {},
     "output_type": "display_data"
    }
   ],
   "source": [
    "import music21 as m21\n",
    "import matplotlib.pyplot as plt\n",
    "from music21 import converter, stream, note, meter, tempo, instrument, clef\n",
    "\n",
    "# Score 객체 생성\n",
    "score = m21.stream.Score()\n",
    "\n",
    "# 퍼커션 트랙 생성\n",
    "percussion_track = stream.Part()\n",
    "percussion_track.append(instrument.Percussion())\n",
    "\n",
    "# 퍼커션 노트 리스트 (한 시간 위치에 여러 노트를 추가)\n",
    "percussion_notes = [\n",
    "    ([\"Bass Drum 1\", \"Closed Hi-Hat\"], 1.0, True),  # 두 개의 노트를 동시에\n",
    "    ([\"Open Hi-Hat\"], 0.75, True),\n",
    "    ([\"Acoustic Snare\", \"Closed Hi-Hat\"], 0.5, True),\n",
    "    ([\"Rest\"], 2.0, False),\n",
    "    ([\"Open Hi-Hat\", \"Acoustic Snare\"], 0.25, True),\n",
    "    ([\"Open Hi-Hat\"], 0.25, True),\n",
    "    ([\"Open Hi-Hat\"], 0.25, True),\n",
    "    ([\"Open Hi-Hat\"], 0.25, True),\n",
    "    ([\"Open Hi-Hat\"], 0.25, True),\n",
    "    ([\"Open Hi-Hat\"], 0.25, True),\n",
    "    ([\"Open Hi-Hat\"], 0.25, True),\n",
    "    ([\"Open Hi-Hat\"], 0.25, True),\n",
    "    ([\"Open Hi-Hat\"], 0.25, True),\n",
    "    ([\"Open Hi-Hat\"], 0.25, True),\n",
    "    ([\"Open Hi-Hat\"], 0.25, True),\n",
    "]\n",
    "\n",
    "# 드럼 클레프 생성\n",
    "drum_clef = clef.PercussionClef()\n",
    "percussion_track.append(drum_clef)\n",
    "\n",
    "# 4/4 박자 생성\n",
    "time_signature = meter.TimeSignature('4/4')\n",
    "percussion_track.append(time_signature)\n",
    "\n",
    "# 각 시간 위치에서 노트를 동시 추가하기 위해 Chord 생성\n",
    "for drum_notes, _duration, is_note in percussion_notes:\n",
    "    notes = []\n",
    "\n",
    "    if is_note:\n",
    "        for drum_note in drum_notes:\n",
    "            # 드럼 노트 생성 (노트의 음 높이는 Percussion 악기에서는 중요하지 않음)\n",
    "            n = m21.note.Unpitched(displayName=drum_instruments[drum_note].pitch)\n",
    "            n.duration.quarterLength = _duration\n",
    "                   \n",
    "            n.stemDirection = 'up'\n",
    "\n",
    "            if drum_instruments[drum_note].notehead_x:\n",
    "                n.notehead = 'x'\n",
    "            \n",
    "            notes.append(n)\n",
    "        # Chord로 노트 추가\n",
    "        chord = m21.percussion.PercussionChord(notes)\n",
    "        chord.stemDirection = 'up'  # Chord의 모든 노트의 꼬리 방향을 위로 설정\n",
    "        percussion_track.append(chord)\n",
    "    else:\n",
    "        rest = m21.note.Rest()\n",
    "        rest.duration.quarterLength = _duration\n",
    "        percussion_track.append(rest)\n",
    "    \n",
    "def show_sheet_music(xml_file):\n",
    "    # XML 파일을 music21 Stream 객체로 변환\n",
    "    score = converter.parse(xml_file)\n",
    "    \n",
    "    # 악보 이미지로 보여주기\n",
    "    score.show()\n",
    "\n",
    "    # 악보 이미지의 배경 색상을 흰색으로 설정\n",
    "    fig = plt.gcf()\n",
    "    fig.patch.set_facecolor('white')\n",
    "    plt.show()\n",
    "\n",
    "# Score 객체에 퍼커션 트랙 추가\n",
    "score.insert(0, percussion_track)\n",
    "\n",
    "# MusicXML 파일로 저장\n",
    "score.write('musicxml', \"drum_score.xml\")\n",
    "\n",
    "# 악보 출력\n",
    "show_sheet_music(\"drum_score.xml\")\n"
   ]
  }
 ],
 "metadata": {
  "kernelspec": {
   "display_name": "drum",
   "language": "python",
   "name": "python3"
  },
  "language_info": {
   "codemirror_mode": {
    "name": "ipython",
    "version": 3
   },
   "file_extension": ".py",
   "mimetype": "text/x-python",
   "name": "python",
   "nbconvert_exporter": "python",
   "pygments_lexer": "ipython3",
   "version": "3.11.5"
  }
 },
 "nbformat": 4,
 "nbformat_minor": 2
}
